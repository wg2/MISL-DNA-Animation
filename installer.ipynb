{
 "cells": [
  {
   "cell_type": "code",
   "execution_count": 8,
   "metadata": {},
   "outputs": [
    {
     "name": "stdout",
     "output_type": "stream",
     "text": [
      "Requirement already satisfied: manim in c:\\users\\khanw\\appdata\\local\\programs\\python\\python312\\lib\\site-packages (0.18.1)\n",
      "Requirement already satisfied: Pillow>=9.1 in c:\\users\\khanw\\appdata\\local\\programs\\python\\python312\\lib\\site-packages (from manim) (10.2.0)\n",
      "Requirement already satisfied: Pygments>=2.0.0 in c:\\users\\khanw\\appdata\\roaming\\python\\python312\\site-packages (from manim) (2.17.2)\n",
      "Requirement already satisfied: click>=8.0 in c:\\users\\khanw\\appdata\\local\\programs\\python\\python312\\lib\\site-packages (from manim) (8.1.7)\n",
      "Requirement already satisfied: cloup>=2.0.0 in c:\\users\\khanw\\appdata\\local\\programs\\python\\python312\\lib\\site-packages (from manim) (3.0.5)\n",
      "Requirement already satisfied: decorator>=4.3.2 in c:\\users\\khanw\\appdata\\roaming\\python\\python312\\site-packages (from manim) (5.1.1)\n",
      "Requirement already satisfied: isosurfaces>=0.1.0 in c:\\users\\khanw\\appdata\\local\\programs\\python\\python312\\lib\\site-packages (from manim) (0.1.2)\n",
      "Requirement already satisfied: manimpango<1.0.0,>=0.5.0 in c:\\users\\khanw\\appdata\\local\\programs\\python\\python312\\lib\\site-packages (from manim) (0.5.0)\n",
      "Requirement already satisfied: mapbox-earcut>=1.0.0 in c:\\users\\khanw\\appdata\\local\\programs\\python\\python312\\lib\\site-packages (from manim) (1.0.1)\n",
      "Requirement already satisfied: moderngl<6.0.0,>=5.0.0 in c:\\users\\khanw\\appdata\\local\\programs\\python\\python312\\lib\\site-packages (from manim) (5.10.0)\n",
      "Requirement already satisfied: moderngl-window>=2.0.0 in c:\\users\\khanw\\appdata\\local\\programs\\python\\python312\\lib\\site-packages (from manim) (2.4.6)\n",
      "Requirement already satisfied: networkx>=2.6 in c:\\users\\khanw\\appdata\\local\\programs\\python\\python312\\lib\\site-packages (from manim) (3.3)\n",
      "Requirement already satisfied: numpy>=1.26 in c:\\users\\khanw\\appdata\\local\\programs\\python\\python312\\lib\\site-packages (from manim) (1.26.4)\n",
      "Requirement already satisfied: pycairo<2.0.0,>=1.13 in c:\\users\\khanw\\appdata\\local\\programs\\python\\python312\\lib\\site-packages (from manim) (1.26.1)\n",
      "Requirement already satisfied: pydub>=0.20.0 in c:\\users\\khanw\\appdata\\local\\programs\\python\\python312\\lib\\site-packages (from manim) (0.25.1)\n",
      "Requirement already satisfied: rich>=12.0.0 in c:\\users\\khanw\\appdata\\local\\programs\\python\\python312\\lib\\site-packages (from manim) (13.7.1)\n",
      "Requirement already satisfied: scipy>=1.6.0 in c:\\users\\khanw\\appdata\\local\\programs\\python\\python312\\lib\\site-packages (from manim) (1.14.0)\n",
      "Requirement already satisfied: screeninfo>=0.7 in c:\\users\\khanw\\appdata\\local\\programs\\python\\python312\\lib\\site-packages (from manim) (0.8.1)\n",
      "Requirement already satisfied: skia-pathops>=0.7.0 in c:\\users\\khanw\\appdata\\local\\programs\\python\\python312\\lib\\site-packages (from manim) (0.8.0.post1)\n",
      "Requirement already satisfied: srt>=3.0.0 in c:\\users\\khanw\\appdata\\local\\programs\\python\\python312\\lib\\site-packages (from manim) (3.5.3)\n",
      "Requirement already satisfied: svgelements>=1.8.0 in c:\\users\\khanw\\appdata\\local\\programs\\python\\python312\\lib\\site-packages (from manim) (1.9.6)\n",
      "Requirement already satisfied: tqdm>=4.0.0 in c:\\users\\khanw\\appdata\\local\\programs\\python\\python312\\lib\\site-packages (from manim) (4.66.2)\n",
      "Requirement already satisfied: typing-extensions>=4.0.0 in c:\\users\\khanw\\appdata\\local\\programs\\python\\python312\\lib\\site-packages (from manim) (4.10.0)\n",
      "Requirement already satisfied: watchdog>=2.0.0 in c:\\users\\khanw\\appdata\\local\\programs\\python\\python312\\lib\\site-packages (from manim) (4.0.1)\n",
      "Requirement already satisfied: colorama in c:\\users\\khanw\\appdata\\roaming\\python\\python312\\site-packages (from click>=8.0->manim) (0.4.6)\n",
      "Requirement already satisfied: glcontext<3,>=2.5.0 in c:\\users\\khanw\\appdata\\local\\programs\\python\\python312\\lib\\site-packages (from moderngl<6.0.0,>=5.0.0->manim) (2.5.0)\n",
      "Requirement already satisfied: pyglet>=2.0.0 in c:\\users\\khanw\\appdata\\local\\programs\\python\\python312\\lib\\site-packages (from moderngl-window>=2.0.0->manim) (2.0.15)\n",
      "Requirement already satisfied: pyrr<1,>=0.10.3 in c:\\users\\khanw\\appdata\\local\\programs\\python\\python312\\lib\\site-packages (from moderngl-window>=2.0.0->manim) (0.10.3)\n",
      "Requirement already satisfied: markdown-it-py>=2.2.0 in c:\\users\\khanw\\appdata\\local\\programs\\python\\python312\\lib\\site-packages (from rich>=12.0.0->manim) (3.0.0)\n",
      "Requirement already satisfied: mdurl~=0.1 in c:\\users\\khanw\\appdata\\local\\programs\\python\\python312\\lib\\site-packages (from markdown-it-py>=2.2.0->rich>=12.0.0->manim) (0.1.2)\n",
      "Requirement already satisfied: multipledispatch in c:\\users\\khanw\\appdata\\local\\programs\\python\\python312\\lib\\site-packages (from pyrr<1,>=0.10.3->moderngl-window>=2.0.0->manim) (1.0.0)\n",
      "Note: you may need to restart the kernel to use updated packages.\n"
     ]
    },
    {
     "name": "stderr",
     "output_type": "stream",
     "text": [
      "\n",
      "[notice] A new release of pip is available: 24.0 -> 24.1\n",
      "[notice] To update, run: python.exe -m pip install --upgrade pip\n"
     ]
    }
   ],
   "source": [
    "pip install manim"
   ]
  },
  {
   "cell_type": "code",
   "execution_count": null,
   "metadata": {},
   "outputs": [],
   "source": []
  }
 ],
 "metadata": {
  "kernelspec": {
   "display_name": "Python 3",
   "language": "python",
   "name": "python3"
  },
  "language_info": {
   "codemirror_mode": {
    "name": "ipython",
    "version": 3
   },
   "file_extension": ".py",
   "mimetype": "text/x-python",
   "name": "python",
   "nbconvert_exporter": "python",
   "pygments_lexer": "ipython3",
   "version": "3.12.2"
  }
 },
 "nbformat": 4,
 "nbformat_minor": 2
}
